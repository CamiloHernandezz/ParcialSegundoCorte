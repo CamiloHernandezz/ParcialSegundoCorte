{
  "nbformat": 4,
  "nbformat_minor": 0,
  "metadata": {
    "colab": {
      "name": "Primer Examen Parcial.ipynb",
      "provenance": [],
      "collapsed_sections": []
    },
    "kernelspec": {
      "name": "python3",
      "display_name": "Python 3"
    }
  },
  "cells": [
    {
      "cell_type": "markdown",
      "metadata": {
        "id": "OvvlycoVCXJc"
      },
      "source": [
        "<div> \n",
        "<DIV align=\"Center\">\n",
        "<FONT FACE=\"times new roman\" SIZE=5>\n",
        "<i><b>REGRESION LINEAL SIMPLE Y REGRESION LINEAL MULTIPLE</b></i> \n",
        "<br><b>Universidad Sergio Arboledad</b>\n",
        "</DIV>\n",
        "\n",
        "<img src=\"https://res-5.cloudinary.com/crunchbase-production/image/upload/c_lpad,h_256,w_256,f_auto,q_auto:eco/v1455514364/pim02bzqvgz0hibsra41.png\" align=\"right\"><FONT FACE=\"times new roman\" SIZE=5>\n",
        "</DIV>\n",
        "<i><b>Ingenieros en Formación:</b></i>  \n",
        "Juan Esteban Arias Patron, Juan Camilo Hernández Ibáñez\n",
        "<br>\n",
        "<i><b>Correo:</b></i> <br>\n",
        "Juan.arias07@correo.usa.edu.co\n",
        "Juan.hernandez07@correo.usa.edu.co\n",
        "<br>\n",
        "<i><b>Docente:</b></i> John Corredor, PhD.\n",
        "<br>\n",
        "<i><b>Asignatura:</b></i> Machine Learning Computación Avanzada\n",
        "<br>\n",
        "<i><b>Fecha de Entrega: </b></i>15/03/21\n",
        "<br>\n",
        "</FONT>\n",
        "</div>"
      ]
    },
    {
      "cell_type": "markdown",
      "metadata": {
        "id": "iFtK1TZaS6jf"
      },
      "source": [
        "**Resumen:** Se propone hacer una regresion lineal siemple y regresion lineal multiple en base a un dataset el cual contiene informacion del GDP per capita, generosisdad, felicidad, salud, libertad (entre otros) de 155 paises del mundo. Del mismo modo, a traves de las regresiones lineales y multiples se busca encontrar la relacion entre la felicidad de las personas de tales paises con la economia y la generosidad de los mismos.\n"
      ]
    },
    {
      "cell_type": "markdown",
      "metadata": {
        "id": "bfMF60gRRqtE"
      },
      "source": [
        "---\n",
        "# **REGRESION LINEAL SIMPLE**\n",
        "---"
      ]
    },
    {
      "cell_type": "markdown",
      "metadata": {
        "id": "85Eov5vkDKef"
      },
      "source": [
        "**¿QUE ES?**\n",
        "\n",
        "Una regresión es un anáisis estadístico realizado sobre un conjunto de datos con el fin de obtener una relación funcional entre las variable involucradas. Además, este análisis permite realizar predicciones de valores que no se midieron, ya sea dentro del rango de los datosconocidos (interpolación) o fuera de éste (extrapolación).\n"
      ]
    },
    {
      "cell_type": "markdown",
      "metadata": {
        "id": "vXpT2o7s3yxr"
      },
      "source": [
        "**Paso 1:** Se importan las bibliotecas correspondientes para el desarrollo de las regresiones\n",
        "\n",
        "1.   **matplotlib.pyplot:**  Es un modulo el cual tiene como funcionalidad  generar gráficas a partir de datos contenidos en el dataset (tambien se puede aplicar para listas, vectores, etc).\n",
        "2.   **numpy:**Permite declarar arrays con distintas dimensiones capaces de albergar gran cantidad de datos del mismo tipo y relacionados entre sí. Además, provee numerosos métodos para manipular los arrays; y para acceder a la información y procesarla de forma muy eficiente.\n",
        "3.   **pandas:** Permite leer y escribir fácilmente ficheros en formato CSV, a su vez permite acceder a los datos mediante índices o nombres para filas y columnas y por ultimo ofrece métodos para reordenar, dividir y combinar conjuntos de datos.\n",
        "4.   **math:**Su principal funcion es facilitar el uso  de calculos matematicos como lo es la radicacion, potenciacion, etc, a través de las funciones internas del modulo.\n",
        "\n"
      ]
    },
    {
      "cell_type": "code",
      "metadata": {
        "id": "v6paQe50CM9E"
      },
      "source": [
        "import matplotlib.pyplot as plt\n",
        "import numpy as np\n",
        "import pandas as pd\n",
        "import math \n",
        "from mpl_toolkits.mplot3d import Axes3D"
      ],
      "execution_count": null,
      "outputs": []
    },
    {
      "cell_type": "markdown",
      "metadata": {
        "id": "UHfukZ6s7pyL"
      },
      "source": [
        "**Paso 2:** Se lee el dataset"
      ]
    },
    {
      "cell_type": "code",
      "metadata": {
        "id": "Jh1d9hAMCyrh"
      },
      "source": [
        "url = '/content/drive/MyDrive/Dataset_Parcial.csv'\n",
        "dataframe0 = pd.read_csv(url)"
      ],
      "execution_count": null,
      "outputs": []
    },
    {
      "cell_type": "markdown",
      "metadata": {
        "id": "du4iGYhCPz2W"
      },
      "source": [
        "A continuación se presentan las 5 primeras filas del dataset haciendo uso de la función ***.head()*** "
      ]
    },
    {
      "cell_type": "code",
      "metadata": {
        "colab": {
          "base_uri": "https://localhost:8080/",
          "height": 224
        },
        "id": "BzG3xlGrcm25",
        "outputId": "d8d0c999-f5e4-460d-ab0f-2caf77bae867"
      },
      "source": [
        "dataframe0.head()"
      ],
      "execution_count": null,
      "outputs": [
        {
          "output_type": "execute_result",
          "data": {
            "text/html": [
              "<div>\n",
              "<style scoped>\n",
              "    .dataframe tbody tr th:only-of-type {\n",
              "        vertical-align: middle;\n",
              "    }\n",
              "\n",
              "    .dataframe tbody tr th {\n",
              "        vertical-align: top;\n",
              "    }\n",
              "\n",
              "    .dataframe thead th {\n",
              "        text-align: right;\n",
              "    }\n",
              "</style>\n",
              "<table border=\"1\" class=\"dataframe\">\n",
              "  <thead>\n",
              "    <tr style=\"text-align: right;\">\n",
              "      <th></th>\n",
              "      <th>Country</th>\n",
              "      <th>Happiness.Rank</th>\n",
              "      <th>Happiness.Score</th>\n",
              "      <th>Whisker.high</th>\n",
              "      <th>Whisker.low</th>\n",
              "      <th>Economy..GDP.per.Capita.</th>\n",
              "      <th>Family</th>\n",
              "      <th>Health..Life.Expectancy.</th>\n",
              "      <th>Freedom</th>\n",
              "      <th>Generosity</th>\n",
              "      <th>Trust..Government.Corruption.</th>\n",
              "      <th>Dystopia.Residual</th>\n",
              "    </tr>\n",
              "  </thead>\n",
              "  <tbody>\n",
              "    <tr>\n",
              "      <th>0</th>\n",
              "      <td>Norway</td>\n",
              "      <td>1</td>\n",
              "      <td>7.537</td>\n",
              "      <td>7.594445</td>\n",
              "      <td>7.479556</td>\n",
              "      <td>1.616463</td>\n",
              "      <td>1.533524</td>\n",
              "      <td>0.796667</td>\n",
              "      <td>0.635423</td>\n",
              "      <td>0.362012</td>\n",
              "      <td>0.315964</td>\n",
              "      <td>2.277027</td>\n",
              "    </tr>\n",
              "    <tr>\n",
              "      <th>1</th>\n",
              "      <td>Denmark</td>\n",
              "      <td>2</td>\n",
              "      <td>7.522</td>\n",
              "      <td>7.581728</td>\n",
              "      <td>7.462272</td>\n",
              "      <td>1.482383</td>\n",
              "      <td>1.551122</td>\n",
              "      <td>0.792566</td>\n",
              "      <td>0.626007</td>\n",
              "      <td>0.355280</td>\n",
              "      <td>0.400770</td>\n",
              "      <td>2.313707</td>\n",
              "    </tr>\n",
              "    <tr>\n",
              "      <th>2</th>\n",
              "      <td>Iceland</td>\n",
              "      <td>3</td>\n",
              "      <td>7.504</td>\n",
              "      <td>7.622030</td>\n",
              "      <td>7.385970</td>\n",
              "      <td>1.480633</td>\n",
              "      <td>1.610574</td>\n",
              "      <td>0.833552</td>\n",
              "      <td>0.627163</td>\n",
              "      <td>0.475540</td>\n",
              "      <td>0.153527</td>\n",
              "      <td>2.322715</td>\n",
              "    </tr>\n",
              "    <tr>\n",
              "      <th>3</th>\n",
              "      <td>Switzerland</td>\n",
              "      <td>4</td>\n",
              "      <td>7.494</td>\n",
              "      <td>7.561772</td>\n",
              "      <td>7.426227</td>\n",
              "      <td>1.564980</td>\n",
              "      <td>1.516912</td>\n",
              "      <td>0.858131</td>\n",
              "      <td>0.620071</td>\n",
              "      <td>0.290549</td>\n",
              "      <td>0.367007</td>\n",
              "      <td>2.276716</td>\n",
              "    </tr>\n",
              "    <tr>\n",
              "      <th>4</th>\n",
              "      <td>Finland</td>\n",
              "      <td>5</td>\n",
              "      <td>7.469</td>\n",
              "      <td>7.527542</td>\n",
              "      <td>7.410458</td>\n",
              "      <td>1.443572</td>\n",
              "      <td>1.540247</td>\n",
              "      <td>0.809158</td>\n",
              "      <td>0.617951</td>\n",
              "      <td>0.245483</td>\n",
              "      <td>0.382612</td>\n",
              "      <td>2.430182</td>\n",
              "    </tr>\n",
              "  </tbody>\n",
              "</table>\n",
              "</div>"
            ],
            "text/plain": [
              "       Country  ...  Dystopia.Residual\n",
              "0       Norway  ...           2.277027\n",
              "1      Denmark  ...           2.313707\n",
              "2      Iceland  ...           2.322715\n",
              "3  Switzerland  ...           2.276716\n",
              "4      Finland  ...           2.430182\n",
              "\n",
              "[5 rows x 12 columns]"
            ]
          },
          "metadata": {
            "tags": []
          },
          "execution_count": 4
        }
      ]
    },
    {
      "cell_type": "markdown",
      "metadata": {
        "id": "KJjHMHBr8JvY"
      },
      "source": [
        "**Paso 3:** Una vez que ya se tienen los datos cargados en el dataframe ee cambian los nombres de las columnas \"Happiness.Score\" y \n",
        "\"Economy..GDP.per.Capita.\" con el fin de facilitar el manejo y uso de los datos y hacer legible el dataset."
      ]
    },
    {
      "cell_type": "code",
      "metadata": {
        "id": "xWjjsf6-D4w7"
      },
      "source": [
        "dataframe0.rename(columns={\"Happiness.Score\": \"Happiness Score\"},inplace=True)\n",
        "dataframe0.rename(columns={\"Economy..GDP.per.Capita.\": \"Economy GDP per Capita\"},inplace=True)"
      ],
      "execution_count": null,
      "outputs": []
    },
    {
      "cell_type": "markdown",
      "metadata": {
        "id": "l3mc-xAb9HVD"
      },
      "source": [
        "**Paso 4:** Se pivotea la columna 'Country'.\n",
        "\n",
        "\n"
      ]
    },
    {
      "cell_type": "code",
      "metadata": {
        "colab": {
          "base_uri": "https://localhost:8080/",
          "height": 235
        },
        "id": "1YlMZOl6GBgC",
        "outputId": "51ecdd02-f0de-4ceb-c5e8-910b8ca8cad2"
      },
      "source": [
        "dataframe0.set_index('Country',inplace=True)\n",
        "dataframe = dataframe0 [['Economy GDP per Capita','Happiness Score']]\n",
        "dataframe.head()"
      ],
      "execution_count": null,
      "outputs": [
        {
          "output_type": "execute_result",
          "data": {
            "text/html": [
              "<div>\n",
              "<style scoped>\n",
              "    .dataframe tbody tr th:only-of-type {\n",
              "        vertical-align: middle;\n",
              "    }\n",
              "\n",
              "    .dataframe tbody tr th {\n",
              "        vertical-align: top;\n",
              "    }\n",
              "\n",
              "    .dataframe thead th {\n",
              "        text-align: right;\n",
              "    }\n",
              "</style>\n",
              "<table border=\"1\" class=\"dataframe\">\n",
              "  <thead>\n",
              "    <tr style=\"text-align: right;\">\n",
              "      <th></th>\n",
              "      <th>Economy GDP per Capita</th>\n",
              "      <th>Happiness Score</th>\n",
              "    </tr>\n",
              "    <tr>\n",
              "      <th>Country</th>\n",
              "      <th></th>\n",
              "      <th></th>\n",
              "    </tr>\n",
              "  </thead>\n",
              "  <tbody>\n",
              "    <tr>\n",
              "      <th>Norway</th>\n",
              "      <td>1.616463</td>\n",
              "      <td>7.537</td>\n",
              "    </tr>\n",
              "    <tr>\n",
              "      <th>Denmark</th>\n",
              "      <td>1.482383</td>\n",
              "      <td>7.522</td>\n",
              "    </tr>\n",
              "    <tr>\n",
              "      <th>Iceland</th>\n",
              "      <td>1.480633</td>\n",
              "      <td>7.504</td>\n",
              "    </tr>\n",
              "    <tr>\n",
              "      <th>Switzerland</th>\n",
              "      <td>1.564980</td>\n",
              "      <td>7.494</td>\n",
              "    </tr>\n",
              "    <tr>\n",
              "      <th>Finland</th>\n",
              "      <td>1.443572</td>\n",
              "      <td>7.469</td>\n",
              "    </tr>\n",
              "  </tbody>\n",
              "</table>\n",
              "</div>"
            ],
            "text/plain": [
              "             Economy GDP per Capita  Happiness Score\n",
              "Country                                             \n",
              "Norway                     1.616463            7.537\n",
              "Denmark                    1.482383            7.522\n",
              "Iceland                    1.480633            7.504\n",
              "Switzerland                1.564980            7.494\n",
              "Finland                    1.443572            7.469"
            ]
          },
          "metadata": {
            "tags": []
          },
          "execution_count": 6
        }
      ]
    },
    {
      "cell_type": "markdown",
      "metadata": {
        "id": "If1DAWrI-F4k"
      },
      "source": [
        "**Paso 5:** Se quiere que el gdp percapita este redondeado con tres decimales"
      ]
    },
    {
      "cell_type": "code",
      "metadata": {
        "colab": {
          "base_uri": "https://localhost:8080/",
          "height": 337
        },
        "id": "9bz8StgxGdr8",
        "outputId": "9cf21700-57e0-4013-c962-4fd07fae20ba"
      },
      "source": [
        "decimales = 3\n",
        "dataframe[\"Economy GDP per Capita\"] = dataframe[\"Economy GDP per Capita\"].apply(lambda x: round(x,decimales))\n",
        "dataframe.head()"
      ],
      "execution_count": null,
      "outputs": [
        {
          "output_type": "stream",
          "text": [
            "/usr/local/lib/python3.7/dist-packages/ipykernel_launcher.py:2: SettingWithCopyWarning: \n",
            "A value is trying to be set on a copy of a slice from a DataFrame.\n",
            "Try using .loc[row_indexer,col_indexer] = value instead\n",
            "\n",
            "See the caveats in the documentation: https://pandas.pydata.org/pandas-docs/stable/user_guide/indexing.html#returning-a-view-versus-a-copy\n",
            "  \n"
          ],
          "name": "stderr"
        },
        {
          "output_type": "execute_result",
          "data": {
            "text/html": [
              "<div>\n",
              "<style scoped>\n",
              "    .dataframe tbody tr th:only-of-type {\n",
              "        vertical-align: middle;\n",
              "    }\n",
              "\n",
              "    .dataframe tbody tr th {\n",
              "        vertical-align: top;\n",
              "    }\n",
              "\n",
              "    .dataframe thead th {\n",
              "        text-align: right;\n",
              "    }\n",
              "</style>\n",
              "<table border=\"1\" class=\"dataframe\">\n",
              "  <thead>\n",
              "    <tr style=\"text-align: right;\">\n",
              "      <th></th>\n",
              "      <th>Economy GDP per Capita</th>\n",
              "      <th>Happiness Score</th>\n",
              "    </tr>\n",
              "    <tr>\n",
              "      <th>Country</th>\n",
              "      <th></th>\n",
              "      <th></th>\n",
              "    </tr>\n",
              "  </thead>\n",
              "  <tbody>\n",
              "    <tr>\n",
              "      <th>Norway</th>\n",
              "      <td>1.616</td>\n",
              "      <td>7.537</td>\n",
              "    </tr>\n",
              "    <tr>\n",
              "      <th>Denmark</th>\n",
              "      <td>1.482</td>\n",
              "      <td>7.522</td>\n",
              "    </tr>\n",
              "    <tr>\n",
              "      <th>Iceland</th>\n",
              "      <td>1.481</td>\n",
              "      <td>7.504</td>\n",
              "    </tr>\n",
              "    <tr>\n",
              "      <th>Switzerland</th>\n",
              "      <td>1.565</td>\n",
              "      <td>7.494</td>\n",
              "    </tr>\n",
              "    <tr>\n",
              "      <th>Finland</th>\n",
              "      <td>1.444</td>\n",
              "      <td>7.469</td>\n",
              "    </tr>\n",
              "  </tbody>\n",
              "</table>\n",
              "</div>"
            ],
            "text/plain": [
              "             Economy GDP per Capita  Happiness Score\n",
              "Country                                             \n",
              "Norway                        1.616            7.537\n",
              "Denmark                       1.482            7.522\n",
              "Iceland                       1.481            7.504\n",
              "Switzerland                   1.565            7.494\n",
              "Finland                       1.444            7.469"
            ]
          },
          "metadata": {
            "tags": []
          },
          "execution_count": 7
        }
      ]
    },
    {
      "cell_type": "markdown",
      "metadata": {
        "id": "VTRpkryr_k9H"
      },
      "source": [
        "**Paso 6:** Se grafica la relación entre el puntaje de felicidad y la economia GDP per capita en donde cada uno de los puntos corresponde a un pais."
      ]
    },
    {
      "cell_type": "code",
      "metadata": {
        "colab": {
          "base_uri": "https://localhost:8080/",
          "height": 530
        },
        "id": "Ypc8Y3M1HI3z",
        "outputId": "30f62504-68a1-44f6-eef4-6cf4a9d51047"
      },
      "source": [
        "dataframe.plot(kind = 'scatter', x= 'Economy GDP per Capita', y = 'Happiness Score',\n",
        "              title = 'Economy GDP per Capita vs Happiness Score',figsize=(12,8))"
      ],
      "execution_count": null,
      "outputs": [
        {
          "output_type": "execute_result",
          "data": {
            "text/plain": [
              "<matplotlib.axes._subplots.AxesSubplot at 0x7f90326e5690>"
            ]
          },
          "metadata": {
            "tags": []
          },
          "execution_count": 8
        },
        {
          "output_type": "display_data",
          "data": {
            "image/png": "[encoded data removed]",
            "text/plain": [
              "<Figure size 864x576 with 1 Axes>"
            ]
          },
          "metadata": {
            "tags": [],
            "needs_background": "light"
          }
        }
      ]
    },
    {
      "cell_type": "markdown",
      "metadata": {
        "id": "jc9oLnbNAbJd"
      },
      "source": [
        "**Paso 7:** Una vez que ya se tienen organizados los datos del dataframe en variables dependientes e indepenientes se procede a realizar la Regresion Lineal Simple utilizando el metodo de minimos cuadrados. Para llevarla a cabo se realizó el siguiete procedimiento matematico:\n",
        "<DIV align=\"Center\" >\n",
        "<FONT FACE=\"times new roman\" SIZE=5>\n",
        "<br><b>COMO HACR UNA REGRESIÓN LINEAL SIMPLE</b>\n",
        "</FONT >\n",
        "</DIV>\n",
        "\n",
        "<div> \n",
        "\n",
        "---\n",
        "\n",
        "<div> \n",
        "<img src=\"https://res.cloudinary.com/dwnabmtxu/image/upload/c_scale,w_403/v1615832323/Formula_Recta_ketwyt.png\" align=\"right\">\n",
        "<br><br/>\n",
        "</div>\n",
        "\n",
        "<DIV align=\"Center\">\n",
        "<i><b>donde βˆ0 es el intercepto y βˆ1 es la pendiente de la recta obtenida de la regresión por mínimos cuadrados. Como se demostrará a continuación, el intercepto y la pendiente resultan ser: </b></i> \n",
        "\n",
        "<img src=\"https://res.cloudinary.com/dwnabmtxu/image/upload/c_scale,w_500/v1615834928/Formula_Recta_puaqqn.png\" align=\"rigth\" >\n",
        "\n",
        "---\n",
        "\n",
        "</DIV>\n",
        "\n",
        "\n",
        "donde **x** e **y** son precisamente los promedios de las medidas experimentales.\n",
        "Al igual que toda medida, los coeficientes βˆ0 y βˆ1 poseen error, los cuales están dados por las ecuaciones:\n",
        "\n",
        "<DIV aling = \"center\"> \n",
        "<img src=\"https://res.cloudinary.com/dwnabmtxu/image/upload/v1615836566/Formula_Recta_jlgmhu.png\" align=\"center\" >\n",
        "\n",
        "</DIV>\n",
        "<br><br/>\n",
        "\n",
        "\n",
        "---\n",
        "\n",
        "\n",
        "\n",
        "\n"
      ]
    },
    {
      "cell_type": "markdown",
      "metadata": {
        "id": "o32OAIrxzZjp"
      },
      "source": [
        "Se hace uso de la funcion ***mean().*** con el fin de obtener el promedio de los datos del eje **x** (Economy GDP per Capita) y el eje **y** (Happiness Score)"
      ]
    },
    {
      "cell_type": "code",
      "metadata": {
        "colab": {
          "base_uri": "https://localhost:8080/"
        },
        "id": "YcVKnjrUHb3o",
        "outputId": "6800181a-a6a9-45c7-e628-77f6ebd10e57"
      },
      "source": [
        "#Promedio del eje x (Economy GDP per Capita)\n",
        "x = (dataframe.loc[dataframe.index][\"Economy GDP per Capita\"]).mean()\n",
        "print(x)\n",
        "#Promedio del eje y (Happiness Score)\n",
        "y = (dataframe.loc[dataframe.index][\"Happiness Score\"]).mean()\n",
        "print(y)\n",
        "  "
      ],
      "execution_count": null,
      "outputs": [
        {
          "output_type": "stream",
          "text": [
            "0.9847161290322585\n",
            "5.354019355773926\n"
          ],
          "name": "stdout"
        }
      ]
    },
    {
      "cell_type": "markdown",
      "metadata": {
        "id": "g7SryiMW0yCj"
      },
      "source": [
        "Ahora, se eleva al cuadrado cada dato del eje **x** y el eje **y** con el fin de determinar nuevamene el promedio."
      ]
    },
    {
      "cell_type": "code",
      "metadata": {
        "colab": {
          "base_uri": "https://localhost:8080/"
        },
        "id": "9oFfP81aUe-I",
        "outputId": "e8bac873-8680-4bd6-b216-b61192bf7d27"
      },
      "source": [
        "#Sumas del eje x al cuadrado (Economy GDP per Capita)\n",
        "xCuadrado = (dataframe.loc[dataframe.index][\"Economy GDP per Capita\"]**2).mean()\n",
        "print(xCuadrado)\n",
        "#Sumas del eje y al cuadrado (Happiness Score)\n",
        "yCuadrado = (dataframe.loc[dataframe.index][\"Happiness Score\"] **2).mean()\n",
        "print(yCuadrado)"
      ],
      "execution_count": null,
      "outputs": [
        {
          "output_type": "stream",
          "text": [
            "1.1456039290322584\n",
            "29.936948768548152\n"
          ],
          "name": "stdout"
        }
      ]
    },
    {
      "cell_type": "markdown",
      "metadata": {
        "id": "ynTn63yZ2jqG"
      },
      "source": [
        "Por ultimo se realiza el producto entre el eje **x** y el eje **y** y se determina el promedio de los datos"
      ]
    },
    {
      "cell_type": "code",
      "metadata": {
        "colab": {
          "base_uri": "https://localhost:8080/"
        },
        "id": "HZO6XzwFVBZT",
        "outputId": "2ca51cbe-038a-4382-efd6-923b60a7011c"
      },
      "source": [
        "#Sumas del eje x por y (Economy GDP per Capita)\n",
        "productoxy = ((dataframe.loc[dataframe.index][\"Economy GDP per Capita\"])*(dataframe.loc[dataframe.index][\"Happiness Score\"])).mean()\n",
        "print(productoxy)"
      ],
      "execution_count": null,
      "outputs": [
        {
          "output_type": "stream",
          "text": [
            "5.6564559161524635\n"
          ],
          "name": "stdout"
        }
      ]
    },
    {
      "cell_type": "markdown",
      "metadata": {
        "id": "3HlOkntK23jW"
      },
      "source": [
        "Al tener los respectivos promedios de las variables dependientes e independientes, y con base a la regresion lineal se determina la ecuacion de la recta, con el fin de determinar la tendencia de los datos"
      ]
    },
    {
      "cell_type": "markdown",
      "metadata": {
        "id": "fmcYX4MoJZNU"
      },
      "source": [
        "**PUNTO DE CORTE**"
      ]
    },
    {
      "cell_type": "code",
      "metadata": {
        "colab": {
          "base_uri": "https://localhost:8080/"
        },
        "id": "5LdES0L9XQ4_",
        "outputId": "0b192db3-53be-4f53-9f51-5f59615433e1"
      },
      "source": [
        "puntoCorte = ((xCuadrado * y) - (productoxy * x))/(xCuadrado - (x*x))      \n",
        "print(puntoCorte)"
      ],
      "execution_count": null,
      "outputs": [
        {
          "output_type": "stream",
          "text": [
            "3.203298880457846\n"
          ],
          "name": "stdout"
        }
      ]
    },
    {
      "cell_type": "markdown",
      "metadata": {
        "id": "Yrux37PyJe6D"
      },
      "source": [
        "**PENDIENTE**"
      ]
    },
    {
      "cell_type": "code",
      "metadata": {
        "colab": {
          "base_uri": "https://localhost:8080/"
        },
        "id": "1OruDFkSbJRU",
        "outputId": "c656ea8e-9d37-476f-e60c-a42293f94ec7"
      },
      "source": [
        "pendiente = ((productoxy)-(x*y))/(xCuadrado-(x*x))\n",
        "print(pendiente)"
      ],
      "execution_count": null,
      "outputs": [
        {
          "output_type": "stream",
          "text": [
            "2.1841020085958425\n"
          ],
          "name": "stdout"
        }
      ]
    },
    {
      "cell_type": "markdown",
      "metadata": {
        "id": "8542cjAzJ4WE"
      },
      "source": [
        "Una vez se tienen los datos se procede a graficar la recta\n",
        "---\n"
      ]
    },
    {
      "cell_type": "code",
      "metadata": {
        "colab": {
          "base_uri": "https://localhost:8080/",
          "height": 513
        },
        "id": "PLEMvJrRbstN",
        "outputId": "59440508-062d-412d-97a8-4688a2cb4448"
      },
      "source": [
        "dataframe.plot(kind='scatter',x='Economy GDP per Capita',y='Happiness Score',\n",
        "               title ='Regresion lineal simple', figsize=(12,8))\n",
        "X = np.linspace(0,1.75)\n",
        "\n",
        "#Para trasar la linea recta se necesita la pendiente(m) y el punto de inteseccion (b)\n",
        "# y = mX + b \n",
        "plt.plot(X,pendiente*X+puntoCorte,'r')\n",
        "\n",
        "plt.text(1.3,4.5,\"ECUACION DE LA RECTA\",fontsize = 14, color='black')\n",
        "plt.text(1.38,4.2,\"y = 2.18x + 3.20\",fontsize = 14, color='r')\n",
        "plt.text(1.3,3.6,\"Punto de corte: 3.20\",fontsize = 14, color='black')\n",
        "plt.text(1.3,3.3,\"Pendiente: 2.18\",fontsize = 14, color='black')\n",
        "\n",
        "plt.show()"
      ],
      "execution_count": null,
      "outputs": [
        {
          "output_type": "display_data",
          "data": {
            "image/png": "[encoded data removed]",
            "text/plain": [
              "<Figure size 864x576 with 1 Axes>"
            ]
          },
          "metadata": {
            "tags": [],
            "needs_background": "light"
          }
        }
      ]
    },
    {
      "cell_type": "markdown",
      "metadata": {
        "id": "ollYfBP0Kiq4"
      },
      "source": [
        "\n",
        "\n",
        "---\n",
        "\n",
        "\n",
        "**Paso 8:**  Al igual que toda medida, los coeficientes βˆ0 y βˆ1 poseen error, de modo que se determina el error relacionado a la pendiente y el punto de corte de la recta con las siguientes ecuaciones:\n",
        "</DIV>\n",
        "<DIV aling = \"center\"> \n",
        "<img src=\"https://res.cloudinary.com/dwnabmtxu/image/upload/v1615836566/Formula_Recta_jlgmhu.png\" align=\"center\" >\n",
        "\n",
        "</DIV>\n",
        "<br><br/>\n",
        "\n",
        "---\n",
        "\n",
        "**SE PROCEDE A REALIZAR EL CALCULO**"
      ]
    },
    {
      "cell_type": "markdown",
      "metadata": {
        "id": "Sq3GJZjKL0NQ"
      },
      "source": [
        "Media de Error en la pendiente (m)"
      ]
    },
    {
      "cell_type": "code",
      "metadata": {
        "id": "U7TaxVu8lzNn",
        "colab": {
          "base_uri": "https://localhost:8080/"
        },
        "outputId": "6f081e25-03b5-45cc-d969-3d28bf252878"
      },
      "source": [
        "numerador = (((xCuadrado-(x*x))*(yCuadrado-(y*y)))-((productoxy-(x*y))**2))\n",
        "denominador = ((productoxy-(x*y))**2)\n",
        "errorPendiente = pendiente * math.sqrt((1/(155-2)) * (numerador/denominador))\n",
        "print(errorPendiente)"
      ],
      "execution_count": null,
      "outputs": [
        {
          "output_type": "stream",
          "text": [
            "0.1267040616609825\n"
          ],
          "name": "stdout"
        }
      ]
    },
    {
      "cell_type": "markdown",
      "metadata": {
        "id": "tnKzKKjmL7t-"
      },
      "source": [
        "Media de Error en el punto de corte (b)"
      ]
    },
    {
      "cell_type": "code",
      "metadata": {
        "colab": {
          "base_uri": "https://localhost:8080/"
        },
        "id": "5ClYW_28rbha",
        "outputId": "bbedd58a-957c-4d8c-cd35-d7c23e963808"
      },
      "source": [
        "errorCorte = errorPendiente * (math.sqrt(xCuadrado))\n",
        "print(errorCorte)"
      ],
      "execution_count": null,
      "outputs": [
        {
          "output_type": "stream",
          "text": [
            "0.13561501745493756\n"
          ],
          "name": "stdout"
        }
      ]
    },
    {
      "cell_type": "markdown",
      "metadata": {
        "id": "lZQTBgeqMyAl"
      },
      "source": [
        "**Paso 9:**  Determinar que tan bien predice el comportamiento de los datos la recta encontrada a través de la regresión lineal"
      ]
    },
    {
      "cell_type": "markdown",
      "metadata": {
        "id": "rX3gkZ9wMc1L"
      },
      "source": [
        "**COEFICIENTE DE CORRELACION DE PEARSON**\n",
        "\n",
        "\n",
        "---\n",
        "\n",
        "\n",
        "R se conoce como el coeficiente de determinación. Este coeficiente es una medida de la “fuerza” o asertividad que posee el modelo planteado para predecir los resultados. En el caso particular de una línea recta, R2 coincide\n",
        "con el cuadrado del coeficiente de correlación de Pearson, el cual es una medida de la relación lineal de dos variables y se representa con la letra R.\n",
        "\n",
        "<img src=\"https://res.cloudinary.com/dwnabmtxu/image/upload/v1615837491/Formula_Recta_i42kyc.png\" align=\"center\" >\n",
        "\n",
        "\n",
        "\n",
        "1.   Si R = 1, se considera que la correlación lineal es perfecta. Además, al ser positiva, la recta de predicción será creciente.\n",
        "2.   Si R = −1, se dice que la correlación lineal es perfecta. Además, al ser negativa, la recta de predicción será decreciente.\n",
        "3.   Si 0 < R < 1, la correlación lineal es positiva y la recta de predicción será creciente.\n",
        "4.    Si 0 > R > −1, la correlación lineal es negativa y la recta de predicción  será decreciente.  \n",
        "\n",
        "\n",
        "\n",
        "\n",
        "\n",
        "\n",
        "---\n",
        "\n",
        "**SE PROCEDE A REALIZAR EL CALCULO**"
      ]
    },
    {
      "cell_type": "code",
      "metadata": {
        "id": "wndYq0rXsLaf",
        "colab": {
          "base_uri": "https://localhost:8080/"
        },
        "outputId": "ee9fc434-d347-48f7-f5fe-a892e8bc621d"
      },
      "source": [
        "#coeficiente de correlacion de Pearson\n",
        "\n",
        "sumatoria = (((dataframe.loc[dataframe.index][\"Economy GDP per Capita\"])-x)*((dataframe.loc[dataframe.index][\"Happiness Score\"]) - y)).sum()\n",
        "R = (sumatoria / (155 * (math.sqrt((xCuadrado)-(x**2))) * (math.sqrt((yCuadrado)-y**2)))) \n",
        "print(R)"
      ],
      "execution_count": null,
      "outputs": [
        {
          "output_type": "stream",
          "text": [
            "0.8124700777322414\n"
          ],
          "name": "stdout"
        }
      ]
    },
    {
      "cell_type": "markdown",
      "metadata": {
        "id": "sLWXH7sONWUk"
      },
      "source": [
        "**CONCLUSIÓN**\n",
        "\n",
        "Se concluye que la recta encontrada por el metodo de minimos cuadrados predice casi en su totalidad el comportamiento de los datos ya que el coeficiente de correlación cuenta con aproximadamente 0.2 de desviación a la hora de predecir la tendencia de los datos. \n",
        "\n",
        "A su vez, hay que tener en cuenta que la diferencia media de error encontrada en el resultado de la pendiente y punto de corte de la recta, varia de entre 0.13 y 0.12, haciendo que el error en la medida de la relacion de las variables sea minimo.\n",
        "\n",
        "Finalmente, la recta resultante del proceso matematico realizado a través del metodo de minimos cuadrados predice de manera muy cercana la tendencia y comportamiento de los datos, teniendo en cuenta las medias de error dichas anteriormente."
      ]
    },
    {
      "cell_type": "markdown",
      "metadata": {
        "id": "4UjCfN6_sx37"
      },
      "source": [
        "---\n",
        "# **REGRESION LINEAL MULTIPLE**\n",
        "---"
      ]
    },
    {
      "cell_type": "markdown",
      "metadata": {
        "id": "Gp5z3ufOSjK4"
      },
      "source": [
        "**¿QUE ES?**\n",
        "\n",
        "La regresión lineal múltiple trata de ajustar modelos lineales o linealizables entre una variable dependiente y más de una variables independientes. En este tipo de modelos es importante testar la heterocedasticidad, la multicolinealidad y la especificación"
      ]
    },
    {
      "cell_type": "markdown",
      "metadata": {
        "id": "TVXrGuPBVFe5"
      },
      "source": [
        "**Paso 1:** Se determinan las variables dependientes y variables independientes\n",
        "\n",
        "---\n",
        "\n",
        "**VARIABLES DEPENDIENTES**\n",
        "\n",
        "*  Economy GDP per Capita\n",
        "\n",
        "**VARIABLES INDEPENDIENTES**\n",
        "\n",
        "*   Happiness Score\n",
        "*   Generosity\n",
        "\n",
        "\n",
        "Cabe mencionar, que en la Regresión Lineal Multiple, se pueden tomar cualquier numero de variables independientes siempre y cuando exista una relacion entre estas variables. Para este caso se tomaran unicamente dos variables independentes para que despues puedan ser graficados el comportamiento de los datos en un plano 3d.  \n",
        "\n"
      ]
    },
    {
      "cell_type": "code",
      "metadata": {
        "colab": {
          "base_uri": "https://localhost:8080/",
          "height": 235
        },
        "id": "aAAVIV-Qs-qm",
        "outputId": "dc727088-349e-4d57-9e84-01efb734e00b"
      },
      "source": [
        "dataframe2 = dataframe0 [['Economy GDP per Capita','Happiness Score', 'Generosity']]\n",
        "dataframe2.head()"
      ],
      "execution_count": null,
      "outputs": [
        {
          "output_type": "execute_result",
          "data": {
            "text/html": [
              "<div>\n",
              "<style scoped>\n",
              "    .dataframe tbody tr th:only-of-type {\n",
              "        vertical-align: middle;\n",
              "    }\n",
              "\n",
              "    .dataframe tbody tr th {\n",
              "        vertical-align: top;\n",
              "    }\n",
              "\n",
              "    .dataframe thead th {\n",
              "        text-align: right;\n",
              "    }\n",
              "</style>\n",
              "<table border=\"1\" class=\"dataframe\">\n",
              "  <thead>\n",
              "    <tr style=\"text-align: right;\">\n",
              "      <th></th>\n",
              "      <th>Economy GDP per Capita</th>\n",
              "      <th>Happiness Score</th>\n",
              "      <th>Generosity</th>\n",
              "    </tr>\n",
              "    <tr>\n",
              "      <th>Country</th>\n",
              "      <th></th>\n",
              "      <th></th>\n",
              "      <th></th>\n",
              "    </tr>\n",
              "  </thead>\n",
              "  <tbody>\n",
              "    <tr>\n",
              "      <th>Norway</th>\n",
              "      <td>1.616463</td>\n",
              "      <td>7.537</td>\n",
              "      <td>0.362012</td>\n",
              "    </tr>\n",
              "    <tr>\n",
              "      <th>Denmark</th>\n",
              "      <td>1.482383</td>\n",
              "      <td>7.522</td>\n",
              "      <td>0.355280</td>\n",
              "    </tr>\n",
              "    <tr>\n",
              "      <th>Iceland</th>\n",
              "      <td>1.480633</td>\n",
              "      <td>7.504</td>\n",
              "      <td>0.475540</td>\n",
              "    </tr>\n",
              "    <tr>\n",
              "      <th>Switzerland</th>\n",
              "      <td>1.564980</td>\n",
              "      <td>7.494</td>\n",
              "      <td>0.290549</td>\n",
              "    </tr>\n",
              "    <tr>\n",
              "      <th>Finland</th>\n",
              "      <td>1.443572</td>\n",
              "      <td>7.469</td>\n",
              "      <td>0.245483</td>\n",
              "    </tr>\n",
              "  </tbody>\n",
              "</table>\n",
              "</div>"
            ],
            "text/plain": [
              "             Economy GDP per Capita  Happiness Score  Generosity\n",
              "Country                                                         \n",
              "Norway                     1.616463            7.537    0.362012\n",
              "Denmark                    1.482383            7.522    0.355280\n",
              "Iceland                    1.480633            7.504    0.475540\n",
              "Switzerland                1.564980            7.494    0.290549\n",
              "Finland                    1.443572            7.469    0.245483"
            ]
          },
          "metadata": {
            "tags": []
          },
          "execution_count": 19
        }
      ]
    },
    {
      "cell_type": "markdown",
      "metadata": {
        "id": "kaBtHZRLXMVP"
      },
      "source": [
        "**Paso 2:** Se quiere que las columnas \"Economy GDP per Capita\" y \"Generosity\" esten redondeadas con tres decimales"
      ]
    },
    {
      "cell_type": "code",
      "metadata": {
        "colab": {
          "base_uri": "https://localhost:8080/",
          "height": 337
        },
        "id": "NLTdfh5UvKuI",
        "outputId": "d677fed5-6cd1-4f7b-ac90-d424d5d19315"
      },
      "source": [
        "decimales = 3\n",
        "dataframe2[[\"Economy GDP per Capita\", \"Generosity\"]] = dataframe0[[\"Economy GDP per Capita\", \"Generosity\"]].apply(lambda x: round(x,decimales))\n",
        "dataframe2.head()"
      ],
      "execution_count": null,
      "outputs": [
        {
          "output_type": "stream",
          "text": [
            "/usr/local/lib/python3.7/dist-packages/pandas/core/frame.py:3069: SettingWithCopyWarning: \n",
            "A value is trying to be set on a copy of a slice from a DataFrame.\n",
            "Try using .loc[row_indexer,col_indexer] = value instead\n",
            "\n",
            "See the caveats in the documentation: https://pandas.pydata.org/pandas-docs/stable/user_guide/indexing.html#returning-a-view-versus-a-copy\n",
            "  self[k1] = value[k2]\n"
          ],
          "name": "stderr"
        },
        {
          "output_type": "execute_result",
          "data": {
            "text/html": [
              "<div>\n",
              "<style scoped>\n",
              "    .dataframe tbody tr th:only-of-type {\n",
              "        vertical-align: middle;\n",
              "    }\n",
              "\n",
              "    .dataframe tbody tr th {\n",
              "        vertical-align: top;\n",
              "    }\n",
              "\n",
              "    .dataframe thead th {\n",
              "        text-align: right;\n",
              "    }\n",
              "</style>\n",
              "<table border=\"1\" class=\"dataframe\">\n",
              "  <thead>\n",
              "    <tr style=\"text-align: right;\">\n",
              "      <th></th>\n",
              "      <th>Economy GDP per Capita</th>\n",
              "      <th>Happiness Score</th>\n",
              "      <th>Generosity</th>\n",
              "    </tr>\n",
              "    <tr>\n",
              "      <th>Country</th>\n",
              "      <th></th>\n",
              "      <th></th>\n",
              "      <th></th>\n",
              "    </tr>\n",
              "  </thead>\n",
              "  <tbody>\n",
              "    <tr>\n",
              "      <th>Norway</th>\n",
              "      <td>1.616</td>\n",
              "      <td>7.537</td>\n",
              "      <td>0.362</td>\n",
              "    </tr>\n",
              "    <tr>\n",
              "      <th>Denmark</th>\n",
              "      <td>1.482</td>\n",
              "      <td>7.522</td>\n",
              "      <td>0.355</td>\n",
              "    </tr>\n",
              "    <tr>\n",
              "      <th>Iceland</th>\n",
              "      <td>1.481</td>\n",
              "      <td>7.504</td>\n",
              "      <td>0.476</td>\n",
              "    </tr>\n",
              "    <tr>\n",
              "      <th>Switzerland</th>\n",
              "      <td>1.565</td>\n",
              "      <td>7.494</td>\n",
              "      <td>0.291</td>\n",
              "    </tr>\n",
              "    <tr>\n",
              "      <th>Finland</th>\n",
              "      <td>1.444</td>\n",
              "      <td>7.469</td>\n",
              "      <td>0.245</td>\n",
              "    </tr>\n",
              "  </tbody>\n",
              "</table>\n",
              "</div>"
            ],
            "text/plain": [
              "             Economy GDP per Capita  Happiness Score  Generosity\n",
              "Country                                                         \n",
              "Norway                        1.616            7.537       0.362\n",
              "Denmark                       1.482            7.522       0.355\n",
              "Iceland                       1.481            7.504       0.476\n",
              "Switzerland                   1.565            7.494       0.291\n",
              "Finland                       1.444            7.469       0.245"
            ]
          },
          "metadata": {
            "tags": []
          },
          "execution_count": 20
        }
      ]
    },
    {
      "cell_type": "markdown",
      "metadata": {
        "id": "kPzhHnbdZomr"
      },
      "source": [
        "**Paso 3:** Una vez que ya se tienen organizados los datos del dataframe en variables dependientes e indepenientes se procede a realizar la **Regresion Lineal Multivariable**. Para llevarla a cabo se realizó el siguiete procedimiento matematico:\n",
        "<DIV align=\"Center\" >\n",
        "<FONT FACE=\"times new roman\" SIZE=5>\n",
        "<br><b>COMO HACR UNA REGRESIÓN LINEAL MULTIPLE</b>\n",
        "</FONT >\n",
        "</DIV>\n",
        "\n",
        "\n",
        "---\n",
        "\n",
        "Para poder resolver y obtener  y  en una ecuación de regresión múltiple el cálculo se presentan 3 ecuaciones que se generan por el método de mínimo de cuadrados\n",
        "\n",
        "<div> \n",
        "<img src=\"https://res.cloudinary.com/dwnabmtxu/image/upload/v1615853823/Ecuacion_Multiple_mfj2im.png\" align=\"center\">\n",
        "</div>\n",
        "\n",
        "<DIV align=\"left\">\n",
        "<i><b> Donde  a, b y c se despejan realizando un sistema de ecuaciones </b></i> \n",
        "</DIV>\n",
        "\n",
        "\n",
        "---\n",
        "\n",
        "**SOLUCIONANDO PROCESO MATEMATICO**\n"
      ]
    },
    {
      "cell_type": "markdown",
      "metadata": {
        "id": "7Kn3ng-jgQGk"
      },
      "source": [
        "Sumatorias de los ejes **x** **y** **z**\n",
        "\n"
      ]
    },
    {
      "cell_type": "code",
      "metadata": {
        "colab": {
          "base_uri": "https://localhost:8080/"
        },
        "id": "n0fIOxY3wDHJ",
        "outputId": "e38ca623-19e2-4d63-ecc3-2749cb0d4f61"
      },
      "source": [
        "#Sumas del eje y (Happiness Score)\n",
        "sumatoriaY = (dataframe2.loc[dataframe2.index][\"Happiness Score\"]).sum()\n",
        "print(\"Sumatoria eje Y: \",sumatoriaY)\n",
        "\n",
        "#Sumas del eje x (Economy GDP per Capita)\n",
        "sumatoriaX = (dataframe2.loc[dataframe2.index][\"Economy GDP per Capita\"]).sum()\n",
        "print(\"Sumatoria eje X: \",sumatoriaX)\n",
        "\n",
        "#Sumas del eje z (Generosity)\n",
        "sumatoriaZ = (dataframe2.loc[dataframe2.index][\"Generosity\"]).sum()\n",
        "print(\"Sumatoria eje Z: \",sumatoriaZ)"
      ],
      "execution_count": null,
      "outputs": [
        {
          "output_type": "stream",
          "text": [
            "Sumatoria eje Y:  829.8730001449585\n",
            "Sumatoria eje X:  152.631\n",
            "Sumatoria eje Z:  38.266999999999996\n"
          ],
          "name": "stdout"
        }
      ]
    },
    {
      "cell_type": "markdown",
      "metadata": {
        "id": "_VKk-SpGgt0N"
      },
      "source": [
        "Se hace uso de la funcion sum(). con el fin de obtener la sumatoria de los datos de x (Economy GDP per Capita), de y (Happiness Score) y de z (Generosity)"
      ]
    },
    {
      "cell_type": "code",
      "metadata": {
        "colab": {
          "base_uri": "https://localhost:8080/"
        },
        "id": "cDwa2IFjyhq_",
        "outputId": "1ca9c454-9b01-45fc-d8d0-4021d5555af0"
      },
      "source": [
        "#Sumatoria del producto de x * y\n",
        "sumproductXY = (dataframe2.loc[dataframe2.index][\"Economy GDP per Capita\"] * dataframe2.loc[dataframe2.index][\"Happiness Score\"]  ).sum()\n",
        "print( \"Sumatoria del producto entre los ejes X*Y: \", sumproductXY)\n",
        "\n",
        "#Sumatoria del producto de z * y\n",
        "sumproductZY = (dataframe2.loc[dataframe2.index][\"Generosity\"] * dataframe2.loc[dataframe2.index][\"Happiness Score\"]  ).sum()\n",
        "print(\"Sumatoria del producto entre los ejes Z*Y: \",sumproductZY)\n",
        "\n",
        "#Sumatoria del producto de z * x\n",
        "sumproductZX = (dataframe2.loc[dataframe2.index][\"Generosity\"] * dataframe2.loc[dataframe2.index][\"Economy GDP per Capita\"]  ).sum()\n",
        "print(\"Sumatoria del producto entre los ejes Z*X: \",sumproductZX)"
      ],
      "execution_count": null,
      "outputs": [
        {
          "output_type": "stream",
          "text": [
            "Sumatoria del producto entre los ejes X*Y:  876.7506670036316\n",
            "Sumatoria del producto entre los ejes Z*Y:  208.5290302937031\n",
            "Sumatoria del producto entre los ejes Z*X:  37.515315\n"
          ],
          "name": "stdout"
        }
      ]
    },
    {
      "cell_type": "markdown",
      "metadata": {
        "id": "nagpX7lxiy2M"
      },
      "source": [
        "Se realiza la sumatoria de los datos al cuadrado de los ejes **x** **y** y el eje **z**"
      ]
    },
    {
      "cell_type": "code",
      "metadata": {
        "colab": {
          "base_uri": "https://localhost:8080/"
        },
        "id": "6f6MZesgzdtF",
        "outputId": "a34b393d-9d02-47da-bf78-514da35ec382"
      },
      "source": [
        "sumCuadradoX = (dataframe2.loc[dataframe2.index][\"Economy GDP per Capita\"]**2).sum()\n",
        "print(\"Sumatoria de los datos del eje x al cuadrado: \", sumCuadradoX)\n",
        "\n",
        "sumCuadradoZ = (dataframe2.loc[dataframe2.index][\"Generosity\"]**2).sum()\n",
        "print(\"Sumatoria de los datos del eje z al cuadrado: \",sumCuadradoZ)"
      ],
      "execution_count": null,
      "outputs": [
        {
          "output_type": "stream",
          "text": [
            "Sumatoria de los datos del eje x al cuadrado:  177.56860899999998\n",
            "Sumatoria de los datos del eje z al cuadrado:  12.246426999999999\n"
          ],
          "name": "stdout"
        }
      ]
    },
    {
      "cell_type": "markdown",
      "metadata": {
        "id": "LYna8eIuz-Go"
      },
      "source": [
        "> ***Sistema de Ecuaciones***\n",
        "\n",
        "* 152.631 **a** + 38.26 **b** + 155    **c** = 829.87\n",
        "* 177.56  **a** + 37.51 **b** + 152.63 **c** = 876.75\n",
        "* 37.51   **a** + 12.24 **b** + 38.26  **c** = 208.52\n",
        "\n",
        "Se procede a darle solucion al sistema de ecuaciones, esto para poder hallar las variables  a b c"
      ]
    },
    {
      "cell_type": "code",
      "metadata": {
        "colab": {
          "base_uri": "https://localhost:8080/"
        },
        "id": "w7XVvyTWzyOU",
        "outputId": "4e1f1dee-595a-4c01-e375-e20e26a27a88"
      },
      "source": [
        "A = np.matrix([[152.631,38.26,155],[177.56,37.51,152.63],[37.51,12.24,38.26]])\n",
        "B = np.matrix([[829.87],[876.75],[208.52]])\n",
        "X = A**(-1)*B\n",
        "print(X)"
      ],
      "execution_count": null,
      "outputs": [
        {
          "output_type": "stream",
          "text": [
            "[[2.19373445]\n",
            " [1.44439253]\n",
            " [2.83726232]]\n"
          ],
          "name": "stdout"
        }
      ]
    },
    {
      "cell_type": "markdown",
      "metadata": {
        "id": "QsGBFRPMmwp1"
      },
      "source": [
        "**ECUCACION RESULTANTE**\n",
        "\n",
        "(2.19)X + (1.44)Z + 2.83 = Y\n"
      ]
    },
    {
      "cell_type": "markdown",
      "metadata": {
        "id": "_JOEDstOhxL5"
      },
      "source": [
        "**Paso 3:** Se realiza la grafica 3d\n",
        "* Una vez obtenidas las variables de la ecuacion se procede a realizar una grafica que permita evidenciar el comportamiento de los datos y la pendiente.\n",
        "* Esta grafica se debe implementar en R3, esto debido a que la ecuacion de la recta contiene dos variables. \n",
        "* Mediande el uso de las colecciones Axes3D y matplotlib se logra imprimir una vista de la grafica y sus correspondientes datos.texto en negrita"
      ]
    },
    {
      "cell_type": "code",
      "metadata": {
        "colab": {
          "base_uri": "https://localhost:8080/",
          "height": 248
        },
        "id": "9_ywiWzy3p0E",
        "outputId": "e157a062-4812-495a-e5da-a6ccd4f101f8"
      },
      "source": [
        "fig = plt.figure()\n",
        "ax = fig.gca(projection=\"3d\")\n",
        "plt.rcParams[\"legend.fontsize\"] = 10\n",
        "\n",
        "X = np.linspace(0,1.75)\n",
        "Y = np.linspace(0,1)\n",
        "\n",
        "#Ejes del plano\n",
        "\n",
        "x2 = dataframe2.loc[dataframe2.index][\"Economy GDP per Capita\"]\n",
        "y2 = dataframe2.loc[dataframe2.index][\"Happiness Score\"]\n",
        "z2 = dataframe2.loc[dataframe2.index][\"Generosity\"]\n",
        "\n",
        "#Informacion\n",
        "ax.scatter(x2,y2,z2,color='r',label=\"Paises\")\n",
        "ax.plot3D(X,Y,2.19373445*X+1.44439253*Y+2.83726232,zdir='y',label=\"Recta pendiente\")\n",
        "ax.legend()\n",
        "\n",
        "\n",
        "plt.show()"
      ],
      "execution_count": null,
      "outputs": [
        {
          "output_type": "display_data",
          "data": {
            "image/png": "[encoded data removed]",
            "text/plain": [
              "<Figure size 432x288 with 1 Axes>"
            ]
          },
          "metadata": {
            "tags": [],
            "needs_background": "light"
          }
        }
      ]
    },
    {
      "cell_type": "markdown",
      "metadata": {
        "id": "0cbbo6_VjSSU"
      },
      "source": [
        "**Paso 4:** Determinar el error Estandar \n",
        "\n",
        "\n",
        "---\n",
        "**EL ERROR ESTANDAR DE LA REGRESION MULTIPLE**\n",
        "\n",
        "Es una medida de dispersión la estimación se hace más precisa conforme el grado de dispersión alrededor del plano de regresión se hace mas pequeño.\n",
        "\n",
        "Para medir el error estandar de la regresion se utiliza la  siguiente formula:\n",
        "\n",
        "\n",
        "<img src=\"https://res.cloudinary.com/dwnabmtxu/image/upload/v1615856673/asd_psmiji.png\" align=\"center\" >\n",
        "\n",
        "Donde;\n",
        "\n",
        "\n",
        "*   Y : Valores observados en la muestra\n",
        "*   Y^ : Valores estimados a partir de la ecuación de regresión\n",
        "*   n : Número de datos\n",
        "*   m : Número de variables independientes\n"
      ]
    },
    {
      "cell_type": "code",
      "metadata": {
        "colab": {
          "base_uri": "https://localhost:8080/"
        },
        "id": "YL78AcspkXNm",
        "outputId": "26337bbe-407e-4ce8-fe72-8f44e93bd266"
      },
      "source": [
        "sumatoriaE = (((dataframe2.loc[dataframe2.index][\"Happiness Score\"])-(2.19373445*(dataframe2.loc[dataframe2.index][\"Economy GDP per Capita\"])+1.44439253*((dataframe2.loc[dataframe2.index][\"Generosity\"]))+2.83726232))**2).sum()\n",
        "desviavionEstandar = math.sqrt(sumatoriaE/(155-2-1))\n",
        "print(desviavionEstandar)"
      ],
      "execution_count": null,
      "outputs": [
        {
          "output_type": "stream",
          "text": [
            "0.6347028599343468\n"
          ],
          "name": "stdout"
        }
      ]
    },
    {
      "cell_type": "markdown",
      "metadata": {
        "id": "-umVhtQnpkRI"
      },
      "source": [
        "**CONCLUSION**\n",
        "\n",
        "Se concluye que la medida de dispercion de los datos es de 0.6 con respecto a los datos del dataFrame\n",
        "\n",
        "Al momento de graficar la recta junto con los datos del data frame en el plano R3 se puede obsevar que la dispercion de los datos es menor debido a la cantidad de variables intependientes."
      ]
    },
    {
      "cell_type": "markdown",
      "metadata": {
        "id": "OJLnOjMtxSub"
      },
      "source": [
        "# **BIBLIOGRAFIA**\n",
        "\n",
        "\n",
        "\n",
        "1.   U.Sergio Arboleda.(2017)**Guias de Fısica Experimental: Fundamentos de Mecanica y Electromagnetismo**,Bogotá D.C., Colombia\n",
        "2.   https://www.monografias.com/trabajos30/regresion-multiple/regresion-multiple.shtml\n",
        "3.   https://users.exa.unicen.edu.ar/catedras/modysim/tutoriales/regresion_multiple.pdf\n",
        "4.   https://support.minitab.com/es-mx/minitab/18/help-and-how-to/modeling-statistics/regression/supporting-topics/regression-models/what-is-the-standard-error-of-the-coefficient/"
      ]
    }
  ]
}